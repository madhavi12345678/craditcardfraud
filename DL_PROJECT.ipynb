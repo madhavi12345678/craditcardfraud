{
  "nbformat": 4,
  "nbformat_minor": 0,
  "metadata": {
    "colab": {
      "name": "DL_PROJECT.ipynb",
      "provenance": []
    },
    "kernelspec": {
      "name": "python3",
      "display_name": "Python 3"
    },
    "language_info": {
      "name": "python"
    }
  },
  "cells": [
    {
      "cell_type": "code",
      "execution_count": 1,
      "metadata": {
        "id": "KZjzkxNoolQZ"
      },
      "outputs": [],
      "source": [
        "import numpy as np\n",
        "import pandas as pd\n",
        "import matplotlib.pyplot as plt"
      ]
    },
    {
      "cell_type": "code",
      "source": [
        "df = pd.read_csv(\"/content/creditcard.csv\")"
      ],
      "metadata": {
        "id": "rLJQPUcE7_b3"
      },
      "execution_count": 11,
      "outputs": []
    },
    {
      "cell_type": "code",
      "source": [
        "df"
      ],
      "metadata": {
        "colab": {
          "base_uri": "https://localhost:8080/",
          "height": 443
        },
        "id": "iFGSa9Ow8WeA",
        "outputId": "383cc379-2759-4bbf-b9a6-fe41d2540187"
      },
      "execution_count": 12,
      "outputs": [
        {
          "output_type": "execute_result",
          "data": {
            "text/html": [
              "<div>\n",
              "<style scoped>\n",
              "    .dataframe tbody tr th:only-of-type {\n",
              "        vertical-align: middle;\n",
              "    }\n",
              "\n",
              "    .dataframe tbody tr th {\n",
              "        vertical-align: top;\n",
              "    }\n",
              "\n",
              "    .dataframe thead th {\n",
              "        text-align: right;\n",
              "    }\n",
              "</style>\n",
              "<table border=\"1\" class=\"dataframe\">\n",
              "  <thead>\n",
              "    <tr style=\"text-align: right;\">\n",
              "      <th></th>\n",
              "      <th>Time</th>\n",
              "      <th>V1</th>\n",
              "      <th>V2</th>\n",
              "      <th>V3</th>\n",
              "      <th>V4</th>\n",
              "      <th>V5</th>\n",
              "      <th>V6</th>\n",
              "      <th>V7</th>\n",
              "      <th>V8</th>\n",
              "      <th>V9</th>\n",
              "      <th>V10</th>\n",
              "      <th>V11</th>\n",
              "      <th>V12</th>\n",
              "      <th>V13</th>\n",
              "      <th>V14</th>\n",
              "      <th>V15</th>\n",
              "      <th>V16</th>\n",
              "      <th>V17</th>\n",
              "      <th>V18</th>\n",
              "      <th>V19</th>\n",
              "      <th>V20</th>\n",
              "      <th>V21</th>\n",
              "      <th>V22</th>\n",
              "      <th>V23</th>\n",
              "      <th>V24</th>\n",
              "      <th>V25</th>\n",
              "      <th>V26</th>\n",
              "      <th>V27</th>\n",
              "      <th>V28</th>\n",
              "      <th>Amount</th>\n",
              "      <th>Class</th>\n",
              "    </tr>\n",
              "  </thead>\n",
              "  <tbody>\n",
              "    <tr>\n",
              "      <th>0</th>\n",
              "      <td>0</td>\n",
              "      <td>-1.359807</td>\n",
              "      <td>-0.072781</td>\n",
              "      <td>2.536347</td>\n",
              "      <td>1.378155</td>\n",
              "      <td>-0.338321</td>\n",
              "      <td>0.462388</td>\n",
              "      <td>0.239599</td>\n",
              "      <td>0.098698</td>\n",
              "      <td>0.363787</td>\n",
              "      <td>0.090794</td>\n",
              "      <td>-0.551600</td>\n",
              "      <td>-0.617801</td>\n",
              "      <td>-0.991390</td>\n",
              "      <td>-0.311169</td>\n",
              "      <td>1.468177</td>\n",
              "      <td>-0.470401</td>\n",
              "      <td>0.207971</td>\n",
              "      <td>0.025791</td>\n",
              "      <td>0.403993</td>\n",
              "      <td>0.251412</td>\n",
              "      <td>-0.018307</td>\n",
              "      <td>0.277838</td>\n",
              "      <td>-0.110474</td>\n",
              "      <td>0.066928</td>\n",
              "      <td>0.128539</td>\n",
              "      <td>-0.189115</td>\n",
              "      <td>0.133558</td>\n",
              "      <td>-0.021053</td>\n",
              "      <td>149.62</td>\n",
              "      <td>0.0</td>\n",
              "    </tr>\n",
              "    <tr>\n",
              "      <th>1</th>\n",
              "      <td>0</td>\n",
              "      <td>1.191857</td>\n",
              "      <td>0.266151</td>\n",
              "      <td>0.166480</td>\n",
              "      <td>0.448154</td>\n",
              "      <td>0.060018</td>\n",
              "      <td>-0.082361</td>\n",
              "      <td>-0.078803</td>\n",
              "      <td>0.085102</td>\n",
              "      <td>-0.255425</td>\n",
              "      <td>-0.166974</td>\n",
              "      <td>1.612727</td>\n",
              "      <td>1.065235</td>\n",
              "      <td>0.489095</td>\n",
              "      <td>-0.143772</td>\n",
              "      <td>0.635558</td>\n",
              "      <td>0.463917</td>\n",
              "      <td>-0.114805</td>\n",
              "      <td>-0.183361</td>\n",
              "      <td>-0.145783</td>\n",
              "      <td>-0.069083</td>\n",
              "      <td>-0.225775</td>\n",
              "      <td>-0.638672</td>\n",
              "      <td>0.101288</td>\n",
              "      <td>-0.339846</td>\n",
              "      <td>0.167170</td>\n",
              "      <td>0.125895</td>\n",
              "      <td>-0.008983</td>\n",
              "      <td>0.014724</td>\n",
              "      <td>2.69</td>\n",
              "      <td>0.0</td>\n",
              "    </tr>\n",
              "    <tr>\n",
              "      <th>2</th>\n",
              "      <td>1</td>\n",
              "      <td>-1.358354</td>\n",
              "      <td>-1.340163</td>\n",
              "      <td>1.773209</td>\n",
              "      <td>0.379780</td>\n",
              "      <td>-0.503198</td>\n",
              "      <td>1.800499</td>\n",
              "      <td>0.791461</td>\n",
              "      <td>0.247676</td>\n",
              "      <td>-1.514654</td>\n",
              "      <td>0.207643</td>\n",
              "      <td>0.624501</td>\n",
              "      <td>0.066084</td>\n",
              "      <td>0.717293</td>\n",
              "      <td>-0.165946</td>\n",
              "      <td>2.345865</td>\n",
              "      <td>-2.890083</td>\n",
              "      <td>1.109969</td>\n",
              "      <td>-0.121359</td>\n",
              "      <td>-2.261857</td>\n",
              "      <td>0.524980</td>\n",
              "      <td>0.247998</td>\n",
              "      <td>0.771679</td>\n",
              "      <td>0.909412</td>\n",
              "      <td>-0.689281</td>\n",
              "      <td>-0.327642</td>\n",
              "      <td>-0.139097</td>\n",
              "      <td>-0.055353</td>\n",
              "      <td>-0.059752</td>\n",
              "      <td>378.66</td>\n",
              "      <td>0.0</td>\n",
              "    </tr>\n",
              "    <tr>\n",
              "      <th>3</th>\n",
              "      <td>1</td>\n",
              "      <td>-0.966272</td>\n",
              "      <td>-0.185226</td>\n",
              "      <td>1.792993</td>\n",
              "      <td>-0.863291</td>\n",
              "      <td>-0.010309</td>\n",
              "      <td>1.247203</td>\n",
              "      <td>0.237609</td>\n",
              "      <td>0.377436</td>\n",
              "      <td>-1.387024</td>\n",
              "      <td>-0.054952</td>\n",
              "      <td>-0.226487</td>\n",
              "      <td>0.178228</td>\n",
              "      <td>0.507757</td>\n",
              "      <td>-0.287924</td>\n",
              "      <td>-0.631418</td>\n",
              "      <td>-1.059647</td>\n",
              "      <td>-0.684093</td>\n",
              "      <td>1.965775</td>\n",
              "      <td>-1.232622</td>\n",
              "      <td>-0.208038</td>\n",
              "      <td>-0.108300</td>\n",
              "      <td>0.005274</td>\n",
              "      <td>-0.190321</td>\n",
              "      <td>-1.175575</td>\n",
              "      <td>0.647376</td>\n",
              "      <td>-0.221929</td>\n",
              "      <td>0.062723</td>\n",
              "      <td>0.061458</td>\n",
              "      <td>123.50</td>\n",
              "      <td>0.0</td>\n",
              "    </tr>\n",
              "    <tr>\n",
              "      <th>4</th>\n",
              "      <td>2</td>\n",
              "      <td>-1.158233</td>\n",
              "      <td>0.877737</td>\n",
              "      <td>1.548718</td>\n",
              "      <td>0.403034</td>\n",
              "      <td>-0.407193</td>\n",
              "      <td>0.095921</td>\n",
              "      <td>0.592941</td>\n",
              "      <td>-0.270533</td>\n",
              "      <td>0.817739</td>\n",
              "      <td>0.753074</td>\n",
              "      <td>-0.822843</td>\n",
              "      <td>0.538196</td>\n",
              "      <td>1.345852</td>\n",
              "      <td>-1.119670</td>\n",
              "      <td>0.175121</td>\n",
              "      <td>-0.451449</td>\n",
              "      <td>-0.237033</td>\n",
              "      <td>-0.038195</td>\n",
              "      <td>0.803487</td>\n",
              "      <td>0.408542</td>\n",
              "      <td>-0.009431</td>\n",
              "      <td>0.798278</td>\n",
              "      <td>-0.137458</td>\n",
              "      <td>0.141267</td>\n",
              "      <td>-0.206010</td>\n",
              "      <td>0.502292</td>\n",
              "      <td>0.219422</td>\n",
              "      <td>0.215153</td>\n",
              "      <td>69.99</td>\n",
              "      <td>0.0</td>\n",
              "    </tr>\n",
              "    <tr>\n",
              "      <th>...</th>\n",
              "      <td>...</td>\n",
              "      <td>...</td>\n",
              "      <td>...</td>\n",
              "      <td>...</td>\n",
              "      <td>...</td>\n",
              "      <td>...</td>\n",
              "      <td>...</td>\n",
              "      <td>...</td>\n",
              "      <td>...</td>\n",
              "      <td>...</td>\n",
              "      <td>...</td>\n",
              "      <td>...</td>\n",
              "      <td>...</td>\n",
              "      <td>...</td>\n",
              "      <td>...</td>\n",
              "      <td>...</td>\n",
              "      <td>...</td>\n",
              "      <td>...</td>\n",
              "      <td>...</td>\n",
              "      <td>...</td>\n",
              "      <td>...</td>\n",
              "      <td>...</td>\n",
              "      <td>...</td>\n",
              "      <td>...</td>\n",
              "      <td>...</td>\n",
              "      <td>...</td>\n",
              "      <td>...</td>\n",
              "      <td>...</td>\n",
              "      <td>...</td>\n",
              "      <td>...</td>\n",
              "      <td>...</td>\n",
              "    </tr>\n",
              "    <tr>\n",
              "      <th>23853</th>\n",
              "      <td>32953</td>\n",
              "      <td>1.296815</td>\n",
              "      <td>-0.518508</td>\n",
              "      <td>0.348800</td>\n",
              "      <td>0.129750</td>\n",
              "      <td>-0.845934</td>\n",
              "      <td>-0.283287</td>\n",
              "      <td>-0.463165</td>\n",
              "      <td>-0.007344</td>\n",
              "      <td>-0.530097</td>\n",
              "      <td>0.611994</td>\n",
              "      <td>-0.839572</td>\n",
              "      <td>-0.238255</td>\n",
              "      <td>-0.682034</td>\n",
              "      <td>0.040107</td>\n",
              "      <td>-0.091270</td>\n",
              "      <td>-2.144114</td>\n",
              "      <td>0.657199</td>\n",
              "      <td>0.305925</td>\n",
              "      <td>-0.899906</td>\n",
              "      <td>-0.604168</td>\n",
              "      <td>-0.498652</td>\n",
              "      <td>-0.791893</td>\n",
              "      <td>0.058456</td>\n",
              "      <td>0.067753</td>\n",
              "      <td>0.367979</td>\n",
              "      <td>0.400899</td>\n",
              "      <td>0.005089</td>\n",
              "      <td>0.008846</td>\n",
              "      <td>14.00</td>\n",
              "      <td>0.0</td>\n",
              "    </tr>\n",
              "    <tr>\n",
              "      <th>23854</th>\n",
              "      <td>32954</td>\n",
              "      <td>1.295646</td>\n",
              "      <td>-0.699613</td>\n",
              "      <td>-1.129649</td>\n",
              "      <td>-2.505043</td>\n",
              "      <td>1.428275</td>\n",
              "      <td>3.010605</td>\n",
              "      <td>-0.892932</td>\n",
              "      <td>0.798386</td>\n",
              "      <td>1.309837</td>\n",
              "      <td>-0.970178</td>\n",
              "      <td>0.105836</td>\n",
              "      <td>0.426482</td>\n",
              "      <td>0.134841</td>\n",
              "      <td>0.265772</td>\n",
              "      <td>2.125626</td>\n",
              "      <td>0.109390</td>\n",
              "      <td>-0.779939</td>\n",
              "      <td>0.611425</td>\n",
              "      <td>0.872506</td>\n",
              "      <td>0.124240</td>\n",
              "      <td>0.071540</td>\n",
              "      <td>0.120545</td>\n",
              "      <td>-0.144172</td>\n",
              "      <td>1.066577</td>\n",
              "      <td>0.615628</td>\n",
              "      <td>0.123208</td>\n",
              "      <td>0.013875</td>\n",
              "      <td>0.018547</td>\n",
              "      <td>37.07</td>\n",
              "      <td>0.0</td>\n",
              "    </tr>\n",
              "    <tr>\n",
              "      <th>23855</th>\n",
              "      <td>32954</td>\n",
              "      <td>-1.691394</td>\n",
              "      <td>-1.452403</td>\n",
              "      <td>1.671861</td>\n",
              "      <td>-1.769590</td>\n",
              "      <td>1.636843</td>\n",
              "      <td>-0.943701</td>\n",
              "      <td>0.193116</td>\n",
              "      <td>-0.712756</td>\n",
              "      <td>-0.987725</td>\n",
              "      <td>1.101270</td>\n",
              "      <td>0.734150</td>\n",
              "      <td>-0.882691</td>\n",
              "      <td>-0.181673</td>\n",
              "      <td>-0.712363</td>\n",
              "      <td>-0.272218</td>\n",
              "      <td>1.351824</td>\n",
              "      <td>-0.783870</td>\n",
              "      <td>-0.593984</td>\n",
              "      <td>0.797110</td>\n",
              "      <td>0.092588</td>\n",
              "      <td>0.047745</td>\n",
              "      <td>0.539167</td>\n",
              "      <td>-0.698010</td>\n",
              "      <td>-0.470563</td>\n",
              "      <td>0.621828</td>\n",
              "      <td>-0.254508</td>\n",
              "      <td>-0.724865</td>\n",
              "      <td>-0.360165</td>\n",
              "      <td>53.80</td>\n",
              "      <td>0.0</td>\n",
              "    </tr>\n",
              "    <tr>\n",
              "      <th>23856</th>\n",
              "      <td>32954</td>\n",
              "      <td>1.112786</td>\n",
              "      <td>0.062772</td>\n",
              "      <td>1.481419</td>\n",
              "      <td>2.922471</td>\n",
              "      <td>-0.905121</td>\n",
              "      <td>0.366357</td>\n",
              "      <td>-0.670663</td>\n",
              "      <td>0.256586</td>\n",
              "      <td>0.599399</td>\n",
              "      <td>0.411398</td>\n",
              "      <td>-1.515738</td>\n",
              "      <td>-0.163763</td>\n",
              "      <td>-1.048557</td>\n",
              "      <td>-0.540107</td>\n",
              "      <td>-1.385328</td>\n",
              "      <td>0.073163</td>\n",
              "      <td>0.056735</td>\n",
              "      <td>-0.196746</td>\n",
              "      <td>-0.559959</td>\n",
              "      <td>-0.247537</td>\n",
              "      <td>0.010125</td>\n",
              "      <td>0.346740</td>\n",
              "      <td>-0.117334</td>\n",
              "      <td>0.416103</td>\n",
              "      <td>0.586102</td>\n",
              "      <td>0.216021</td>\n",
              "      <td>0.042710</td>\n",
              "      <td>0.024984</td>\n",
              "      <td>0.00</td>\n",
              "      <td>0.0</td>\n",
              "    </tr>\n",
              "    <tr>\n",
              "      <th>23857</th>\n",
              "      <td>32954</td>\n",
              "      <td>-0.264220</td>\n",
              "      <td>1.107046</td>\n",
              "      <td>0.985544</td>\n",
              "      <td>0.346904</td>\n",
              "      <td>1.121035</td>\n",
              "      <td>0.069275</td>\n",
              "      <td>1.307409</td>\n",
              "      <td>-0.681733</td>\n",
              "      <td>0.346650</td>\n",
              "      <td>1.056734</td>\n",
              "      <td>-1.563225</td>\n",
              "      <td>-1.158576</td>\n",
              "      <td>-0.407190</td>\n",
              "      <td>-0.387475</td>\n",
              "      <td>1.298187</td>\n",
              "      <td>-0.182637</td>\n",
              "      <td>-0.990864</td>\n",
              "      <td>0.523501</td>\n",
              "      <td>0.916037</td>\n",
              "      <td>0.460643</td>\n",
              "      <td>-0.159083</td>\n",
              "      <td>NaN</td>\n",
              "      <td>NaN</td>\n",
              "      <td>NaN</td>\n",
              "      <td>NaN</td>\n",
              "      <td>NaN</td>\n",
              "      <td>NaN</td>\n",
              "      <td>NaN</td>\n",
              "      <td>NaN</td>\n",
              "      <td>NaN</td>\n",
              "    </tr>\n",
              "  </tbody>\n",
              "</table>\n",
              "<p>23858 rows × 31 columns</p>\n",
              "</div>"
            ],
            "text/plain": [
              "        Time        V1        V2        V3  ...       V27       V28  Amount  Class\n",
              "0          0 -1.359807 -0.072781  2.536347  ...  0.133558 -0.021053  149.62    0.0\n",
              "1          0  1.191857  0.266151  0.166480  ... -0.008983  0.014724    2.69    0.0\n",
              "2          1 -1.358354 -1.340163  1.773209  ... -0.055353 -0.059752  378.66    0.0\n",
              "3          1 -0.966272 -0.185226  1.792993  ...  0.062723  0.061458  123.50    0.0\n",
              "4          2 -1.158233  0.877737  1.548718  ...  0.219422  0.215153   69.99    0.0\n",
              "...      ...       ...       ...       ...  ...       ...       ...     ...    ...\n",
              "23853  32953  1.296815 -0.518508  0.348800  ...  0.005089  0.008846   14.00    0.0\n",
              "23854  32954  1.295646 -0.699613 -1.129649  ...  0.013875  0.018547   37.07    0.0\n",
              "23855  32954 -1.691394 -1.452403  1.671861  ... -0.724865 -0.360165   53.80    0.0\n",
              "23856  32954  1.112786  0.062772  1.481419  ...  0.042710  0.024984    0.00    0.0\n",
              "23857  32954 -0.264220  1.107046  0.985544  ...       NaN       NaN     NaN    NaN\n",
              "\n",
              "[23858 rows x 31 columns]"
            ]
          },
          "metadata": {},
          "execution_count": 12
        }
      ]
    },
    {
      "cell_type": "code",
      "source": [
        "x = df.corrwith(train[\"Class\"]).to_dict()"
      ],
      "metadata": {
        "id": "7w75wzvo8ek-"
      },
      "execution_count": 13,
      "outputs": []
    },
    {
      "cell_type": "code",
      "source": [
        "del x['Class']"
      ],
      "metadata": {
        "id": "InOeX7k89XUv"
      },
      "execution_count": 14,
      "outputs": []
    },
    {
      "cell_type": "code",
      "source": [
        "features = []\n",
        "for k,v in x.items():\n",
        "    if abs(v)>0.1:\n",
        "        print(f\"{k} : {v:.2f}\")\n",
        "        features.append(k)"
      ],
      "metadata": {
        "colab": {
          "base_uri": "https://localhost:8080/"
        },
        "id": "H3sNJuIM91j9",
        "outputId": "5bc0d3aa-704c-49a9-d2c0-ee84eeb9e4c7"
      },
      "execution_count": 15,
      "outputs": [
        {
          "output_type": "stream",
          "name": "stdout",
          "text": [
            "V1 : -0.27\n",
            "V2 : 0.25\n",
            "V3 : -0.46\n",
            "V4 : 0.25\n",
            "V5 : -0.25\n",
            "V6 : -0.12\n",
            "V7 : -0.37\n",
            "V8 : 0.19\n",
            "V9 : -0.17\n",
            "V10 : -0.35\n",
            "V11 : 0.27\n",
            "V12 : -0.31\n",
            "V14 : -0.43\n",
            "V16 : -0.32\n",
            "V17 : -0.42\n",
            "V18 : -0.20\n",
            "V27 : 0.13\n"
          ]
        }
      ]
    },
    {
      "cell_type": "code",
      "source": [
        "x = df[features]\n",
        "y = df['Class']"
      ],
      "metadata": {
        "id": "nLCILmSX-BTz"
      },
      "execution_count": 16,
      "outputs": []
    },
    {
      "cell_type": "code",
      "source": [
        "y.value_counts()"
      ],
      "metadata": {
        "colab": {
          "base_uri": "https://localhost:8080/"
        },
        "id": "N25B-Qwh-Ga5",
        "outputId": "d0ce1f60-6663-459d-d2a5-95717567e893"
      },
      "execution_count": 17,
      "outputs": [
        {
          "output_type": "execute_result",
          "data": {
            "text/plain": [
              "0.0    23769\n",
              "1.0       88\n",
              "Name: Class, dtype: int64"
            ]
          },
          "metadata": {},
          "execution_count": 17
        }
      ]
    },
    {
      "cell_type": "code",
      "source": [
        "from sklearn.preprocessing import StandardScaler\n",
        "scaler = StandardScaler()\n",
        "x = scaler.fit_transform(x)"
      ],
      "metadata": {
        "id": "kQzbPGQQ-LCY"
      },
      "execution_count": 18,
      "outputs": []
    },
    {
      "cell_type": "code",
      "source": [
        "# splitting the dataset into train and test dataset with 4:1 ratio (80%-20%)\n",
        "from sklearn.model_selection import train_test_split\n",
        "x_train, x_test, y_train, y_test = train_test_split(x, y, test_size = 0.2, random_state = 26)"
      ],
      "metadata": {
        "id": "MNuFI0Tw-SX5"
      },
      "execution_count": 26,
      "outputs": []
    },
    {
      "cell_type": "code",
      "source": [
        "from sklearn.linear_model import LogisticRegression\n",
        "# Create instance of model\n",
        "lreg = LogisticRegression()\n",
        "# Pass training data into model\n",
        "lreg.fit(x_test,y_test)"
      ],
      "metadata": {
        "colab": {
          "base_uri": "https://localhost:8080/"
        },
        "id": "NC4VBB_L_UFt",
        "outputId": "ac2cd5ab-c1b4-4b2d-cb53-cbd7ec777c63"
      },
      "execution_count": 33,
      "outputs": [
        {
          "output_type": "execute_result",
          "data": {
            "text/plain": [
              "LogisticRegression()"
            ]
          },
          "metadata": {},
          "execution_count": 33
        }
      ]
    },
    {
      "cell_type": "code",
      "source": [
        "# Getting prediciton on x_test\n",
        "y_pred_lreg = lreg.predict(x_test)"
      ],
      "metadata": {
        "id": "7njOlvUI-6iR"
      },
      "execution_count": 34,
      "outputs": []
    },
    {
      "cell_type": "code",
      "source": [
        "# Scoring our model\n",
        "from sklearn.metrics import classification_report, confusion_matrix, accuracy_score,f1_score, precision_score, recall_score\n",
        "\n",
        "# Confusion Matrix\n",
        "print('Logistic Regression')\n",
        "print('\\n')\n",
        "print('Confusion Matrix')\n",
        "print(confusion_matrix(y_test, y_pred_lreg))\n",
        "print('--'*50)\n",
        "\n",
        "# Classification Report\n",
        "print('Classification Report')\n",
        "print(classification_report(y_test,y_pred_lreg))\n",
        "\n",
        "\n",
        "# Accuracy of our model\n",
        "print('--'*50)\n",
        "logreg_accuracy = round(accuracy_score(y_test, y_pred_lreg) * 100,8)\n",
        "print('Accuracy = ', logreg_accuracy,'%')"
      ],
      "metadata": {
        "colab": {
          "base_uri": "https://localhost:8080/"
        },
        "id": "MxFx44ZPME_S",
        "outputId": "0e859204-ab91-488a-cda3-72614a5598df"
      },
      "execution_count": 35,
      "outputs": [
        {
          "output_type": "stream",
          "name": "stdout",
          "text": [
            "Logistic Regression\n",
            "\n",
            "\n",
            "Confusion Matrix\n",
            "[[4752    1]\n",
            " [   7   12]]\n",
            "----------------------------------------------------------------------------------------------------\n",
            "Classification Report\n",
            "              precision    recall  f1-score   support\n",
            "\n",
            "         0.0       1.00      1.00      1.00      4753\n",
            "         1.0       0.92      0.63      0.75        19\n",
            "\n",
            "    accuracy                           1.00      4772\n",
            "   macro avg       0.96      0.82      0.87      4772\n",
            "weighted avg       1.00      1.00      1.00      4772\n",
            "\n",
            "----------------------------------------------------------------------------------------------------\n",
            "Accuracy =  99.83235541 %\n"
          ]
        }
      ]
    },
    {
      "cell_type": "code",
      "source": [
        "%%time\n",
        "from sklearn.svm import SVC\n",
        "# Instantiate the model\n",
        "svc = SVC()\n",
        "# Fit the model on training data\n",
        "svc.fit(x_test, y_test)"
      ],
      "metadata": {
        "colab": {
          "base_uri": "https://localhost:8080/"
        },
        "id": "bqu3NGAaMHrs",
        "outputId": "d4e04a13-5576-4857-ec2a-9218ff6ad1c8"
      },
      "execution_count": 37,
      "outputs": [
        {
          "output_type": "stream",
          "name": "stdout",
          "text": [
            "CPU times: user 65.1 ms, sys: 721 µs, total: 65.8 ms\n",
            "Wall time: 71.9 ms\n"
          ]
        }
      ]
    },
    {
      "cell_type": "code",
      "source": [
        "# Getting the predictions for x_test\n",
        "y_pred_svc = svc.predict(x_test)"
      ],
      "metadata": {
        "id": "UMLSAracMXrO"
      },
      "execution_count": 38,
      "outputs": []
    },
    {
      "cell_type": "code",
      "source": [
        "print('Support Vector Classifier')\n",
        "print('\\n')\n",
        "# Confusion matrix\n",
        "print('Confusion Matrix')\n",
        "print(confusion_matrix(y_test, y_pred_svc))\n",
        "print('--'*50)\n",
        "\n",
        "# Classification report\n",
        "print('Classification Report')\n",
        "print(classification_report(y_test, y_pred_svc))\n",
        "\n",
        "# Accuracy\n",
        "print('--'*50)\n",
        "svc_accuracy = round(accuracy_score(y_test, y_pred_svc)*100,8)\n",
        "print('Accuracy = ', svc_accuracy,'%')"
      ],
      "metadata": {
        "colab": {
          "base_uri": "https://localhost:8080/"
        },
        "id": "gb5wIE9jMcry",
        "outputId": "cbec7a15-84df-47ee-f6db-ccb0f6c6eb7e"
      },
      "execution_count": 39,
      "outputs": [
        {
          "output_type": "stream",
          "name": "stdout",
          "text": [
            "Support Vector Classifier\n",
            "\n",
            "\n",
            "Confusion Matrix\n",
            "[[4753    0]\n",
            " [   4   15]]\n",
            "----------------------------------------------------------------------------------------------------\n",
            "Classification Report\n",
            "              precision    recall  f1-score   support\n",
            "\n",
            "         0.0       1.00      1.00      1.00      4753\n",
            "         1.0       1.00      0.79      0.88        19\n",
            "\n",
            "    accuracy                           1.00      4772\n",
            "   macro avg       1.00      0.89      0.94      4772\n",
            "weighted avg       1.00      1.00      1.00      4772\n",
            "\n",
            "----------------------------------------------------------------------------------------------------\n",
            "Accuracy =  99.9161777 %\n"
          ]
        }
      ]
    },
    {
      "cell_type": "code",
      "source": [
        "\n",
        "from sklearn.neighbors import KNeighborsClassifier\n",
        "\n",
        "# in knn we need to select a value of nearest neighbour, for now lets use a for loop. If accuarcy\n",
        "# is better than other models then we would search for optimal parameter\n",
        "\n",
        "error_rate = []\n",
        "\n",
        "for i in range (2,15):\n",
        "    knn = KNeighborsClassifier(n_neighbors = i)\n",
        "    knn.fit(x_test, y_test)\n",
        "    pred_i = knn.predict(x_test)\n",
        "    error_rate.append(np.mean(pred_i != y_test))\n",
        "\n",
        "# Plot error rate\n",
        "plt.figure(figsize = (10,6))\n",
        "plt.plot(range(2,15), error_rate, color = 'blue', linestyle = '--', marker = 'o', \n",
        "        markerfacecolor = 'green', markersize = 10)\n",
        "\n",
        "plt.title('Error Rate vs K Value')\n",
        "plt.xlabel('K')\n",
        "plt.ylabel('Error Rate')\n",
        "plt.show()"
      ],
      "metadata": {
        "colab": {
          "base_uri": "https://localhost:8080/",
          "height": 404
        },
        "id": "xDwDg2XsMf2T",
        "outputId": "2dbbc568-4d12-49ee-d0ab-63ad3a86a205"
      },
      "execution_count": 42,
      "outputs": [
        {
          "output_type": "display_data",
          "data": {
            "image/png": "[encoded data removed]",
            "text/plain": [
              "<Figure size 720x432 with 1 Axes>"
            ]
          },
          "metadata": {
            "needs_background": "light"
          }
        }
      ]
    },
    {
      "cell_type": "code",
      "source": [
        "# now using above data to train with n_neighbors having least error rate\n",
        "\n",
        "n_value = 0\n",
        "min_error = float('inf')\n",
        "for idx,error in enumerate(error_rate):\n",
        "    if min_error>error:\n",
        "        min_error=error\n",
        "        n_value=idx+2\n",
        "\n",
        "knn = KNeighborsClassifier(n_neighbors = n_value)\n",
        "# Fit new KNN on training data\n",
        "knn.fit(x_test, y_test)"
      ],
      "metadata": {
        "colab": {
          "base_uri": "https://localhost:8080/"
        },
        "id": "aco8aM_mNHCX",
        "outputId": "ff2308b1-fe3a-49f6-d862-e3a39affe2fa"
      },
      "execution_count": 44,
      "outputs": [
        {
          "output_type": "execute_result",
          "data": {
            "text/plain": [
              "KNeighborsClassifier(n_neighbors=2)"
            ]
          },
          "metadata": {},
          "execution_count": 44
        }
      ]
    },
    {
      "cell_type": "code",
      "source": [
        "# Predict KNN\n",
        "y_pred_knn_op = knn.predict(x_test)"
      ],
      "metadata": {
        "id": "8l1RNWrfNUqB"
      },
      "execution_count": 45,
      "outputs": []
    },
    {
      "cell_type": "code",
      "source": [
        "print('K-Nearest Neighbors(KNN)')\n",
        "print('k =',n_value)\n",
        "\n",
        "# Confusion Matrix\n",
        "print('\\n')\n",
        "print(confusion_matrix(y_test, y_pred_knn_op))\n",
        "\n",
        "# Classification Report\n",
        "print('--'*50)\n",
        "print('Classfication Report',classification_report(y_test, y_pred_knn_op))\n",
        "\n",
        "# Accuracy\n",
        "print('--'*50)\n",
        "knn_op_accuracy =round(accuracy_score(y_test, y_pred_knn_op)*100,8)\n",
        "print('Accuracy = ',knn_op_accuracy,'%')\n"
      ],
      "metadata": {
        "colab": {
          "base_uri": "https://localhost:8080/"
        },
        "id": "rSxYttZpNd-x",
        "outputId": "cfef2d23-b87b-40b4-d83f-95339d87e886"
      },
      "execution_count": 47,
      "outputs": [
        {
          "output_type": "stream",
          "name": "stdout",
          "text": [
            "K-Nearest Neighbors(KNN)\n",
            "k = 2\n",
            "\n",
            "\n",
            "[[4753    0]\n",
            " [   7   12]]\n",
            "----------------------------------------------------------------------------------------------------\n",
            "Classfication Report               precision    recall  f1-score   support\n",
            "\n",
            "         0.0       1.00      1.00      1.00      4753\n",
            "         1.0       1.00      0.63      0.77        19\n",
            "\n",
            "    accuracy                           1.00      4772\n",
            "   macro avg       1.00      0.82      0.89      4772\n",
            "weighted avg       1.00      1.00      1.00      4772\n",
            "\n",
            "----------------------------------------------------------------------------------------------------\n",
            "Accuracy =  99.85331098 %\n"
          ]
        }
      ]
    },
    {
      "cell_type": "code",
      "source": [
        "from sklearn.ensemble import RandomForestClassifier\n",
        "\n",
        "# Create model object\n",
        "rfc = RandomForestClassifier(n_estimators = 250,n_jobs=-1)\n",
        "# Fit model to training data\n",
        "rfc.fit(x_test,y_test)\n",
        "y_pred_rfc = rfc.predict(x_test)"
      ],
      "metadata": {
        "id": "YEMyEyZRN0_1"
      },
      "execution_count": 49,
      "outputs": []
    },
    {
      "cell_type": "code",
      "source": [
        "print('Random Forest')\n",
        "# Confusion matrix\n",
        "print('\\n')\n",
        "print('Confusion Matrix')\n",
        "print(confusion_matrix(y_test, y_pred_rfc))\n",
        "\n",
        "# Classification report\n",
        "print('--'*50)\n",
        "print('Classification Report')\n",
        "print(classification_report(y_test, y_pred_rfc))\n",
        "\n",
        "# Accuracy\n",
        "print('--'*50)\n",
        "rf_accuracy = round(accuracy_score(y_test, y_pred_rfc)*100,8)\n",
        "print('Accuracy = ', rf_accuracy,'%')"
      ],
      "metadata": {
        "colab": {
          "base_uri": "https://localhost:8080/"
        },
        "id": "yNn9_491N80C",
        "outputId": "292dc850-db16-4058-bea4-06f63c08cf43"
      },
      "execution_count": 50,
      "outputs": [
        {
          "output_type": "stream",
          "name": "stdout",
          "text": [
            "Random Forest\n",
            "\n",
            "\n",
            "Confusion Matrix\n",
            "[[4753    0]\n",
            " [   0   19]]\n",
            "----------------------------------------------------------------------------------------------------\n",
            "Classification Report\n",
            "              precision    recall  f1-score   support\n",
            "\n",
            "         0.0       1.00      1.00      1.00      4753\n",
            "         1.0       1.00      1.00      1.00        19\n",
            "\n",
            "    accuracy                           1.00      4772\n",
            "   macro avg       1.00      1.00      1.00      4772\n",
            "weighted avg       1.00      1.00      1.00      4772\n",
            "\n",
            "----------------------------------------------------------------------------------------------------\n",
            "Accuracy =  100.0 %\n"
          ]
        }
      ]
    },
    {
      "cell_type": "code",
      "source": [
        "from xgboost import XGBClassifier\n",
        "\n",
        "# Create model object\n",
        "xgb = XGBClassifier(n_jobs=-1)\n",
        "\n",
        "# Fit model to training data\n",
        "xgb.fit(x_train, y_train)\n",
        "y_pred_xgb = xgb.predict(x_test)"
      ],
      "metadata": {
        "id": "Q6pSvntFOCva"
      },
      "execution_count": 51,
      "outputs": []
    },
    {
      "cell_type": "code",
      "source": [
        "print('XGBoost Classifer')\n",
        "# Confusion matrix\n",
        "print('\\n')\n",
        "print('Confusion Matrix')\n",
        "print(confusion_matrix(y_test, y_pred_xgb))\n",
        "\n",
        "# Classification report\n",
        "print('--'*50)\n",
        "print('Classification Report')\n",
        "print(classification_report(y_test, y_pred_xgb))\n",
        "\n",
        "# Accuracy\n",
        "print('--'*50)\n",
        "xgb_accuracy = round(accuracy_score(y_test, y_pred_xgb)*100,8)\n",
        "print('Accuracy = ', xgb_accuracy,'%')"
      ],
      "metadata": {
        "colab": {
          "base_uri": "https://localhost:8080/"
        },
        "id": "I7k4rTE8OQnK",
        "outputId": "736ddcdc-4b76-45bb-c715-1e288318a810"
      },
      "execution_count": 52,
      "outputs": [
        {
          "output_type": "stream",
          "name": "stdout",
          "text": [
            "XGBoost Classifer\n",
            "\n",
            "\n",
            "Confusion Matrix\n",
            "[[4749    4]\n",
            " [   5   14]]\n",
            "----------------------------------------------------------------------------------------------------\n",
            "Classification Report\n",
            "              precision    recall  f1-score   support\n",
            "\n",
            "         0.0       1.00      1.00      1.00      4753\n",
            "         1.0       0.78      0.74      0.76        19\n",
            "\n",
            "    accuracy                           1.00      4772\n",
            "   macro avg       0.89      0.87      0.88      4772\n",
            "weighted avg       1.00      1.00      1.00      4772\n",
            "\n",
            "----------------------------------------------------------------------------------------------------\n",
            "Accuracy =  99.81139983 %\n"
          ]
        }
      ]
    },
    {
      "cell_type": "code",
      "source": [
        "models = pd.DataFrame({\n",
        "     'Model': ['Logistic Regression', 'Linear SVC', \n",
        "               'K-Nearest Neighbors', 'Random Forest','XGBoost Classifier'],\n",
        "    'Score': [logreg_accuracy, svc_accuracy, \n",
        "               knn_op_accuracy, rf_accuracy,xgb_accuracy]})\n",
        "models.sort_values(by='Score', ascending=False)"
      ],
      "metadata": {
        "colab": {
          "base_uri": "https://localhost:8080/",
          "height": 206
        },
        "id": "AHT18cv4OY_x",
        "outputId": "0088ae9a-8458-417a-c742-214d05fef0fc"
      },
      "execution_count": 53,
      "outputs": [
        {
          "output_type": "execute_result",
          "data": {
            "text/html": [
              "<div>\n",
              "<style scoped>\n",
              "    .dataframe tbody tr th:only-of-type {\n",
              "        vertical-align: middle;\n",
              "    }\n",
              "\n",
              "    .dataframe tbody tr th {\n",
              "        vertical-align: top;\n",
              "    }\n",
              "\n",
              "    .dataframe thead th {\n",
              "        text-align: right;\n",
              "    }\n",
              "</style>\n",
              "<table border=\"1\" class=\"dataframe\">\n",
              "  <thead>\n",
              "    <tr style=\"text-align: right;\">\n",
              "      <th></th>\n",
              "      <th>Model</th>\n",
              "      <th>Score</th>\n",
              "    </tr>\n",
              "  </thead>\n",
              "  <tbody>\n",
              "    <tr>\n",
              "      <th>3</th>\n",
              "      <td>Random Forest</td>\n",
              "      <td>100.000000</td>\n",
              "    </tr>\n",
              "    <tr>\n",
              "      <th>1</th>\n",
              "      <td>Linear SVC</td>\n",
              "      <td>99.916178</td>\n",
              "    </tr>\n",
              "    <tr>\n",
              "      <th>2</th>\n",
              "      <td>K-Nearest Neighbors</td>\n",
              "      <td>99.853311</td>\n",
              "    </tr>\n",
              "    <tr>\n",
              "      <th>0</th>\n",
              "      <td>Logistic Regression</td>\n",
              "      <td>99.832355</td>\n",
              "    </tr>\n",
              "    <tr>\n",
              "      <th>4</th>\n",
              "      <td>XGBoost Classifier</td>\n",
              "      <td>99.811400</td>\n",
              "    </tr>\n",
              "  </tbody>\n",
              "</table>\n",
              "</div>"
            ],
            "text/plain": [
              "                 Model       Score\n",
              "3        Random Forest  100.000000\n",
              "1           Linear SVC   99.916178\n",
              "2  K-Nearest Neighbors   99.853311\n",
              "0  Logistic Regression   99.832355\n",
              "4   XGBoost Classifier   99.811400"
            ]
          },
          "metadata": {},
          "execution_count": 53
        }
      ]
    }
  ]
}